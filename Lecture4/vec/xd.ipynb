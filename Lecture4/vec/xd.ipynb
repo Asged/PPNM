{
 "cells": [
  {
   "cell_type": "code",
   "execution_count": null,
   "metadata": {},
   "outputs": [],
   "source": [
    "name = input(\"Skriv dit navn\")\n",
    "if name==Hussein\n",
    "    print(\"Bitch\")\n",
    "else\n",
    "    print(\"lol\")"
   ]
  }
 ],
 "metadata": {
  "language_info": {
   "name": "python"
  }
 },
 "nbformat": 4,
 "nbformat_minor": 2
}
